{
 "cells": [
  {
   "attachments": {},
   "cell_type": "markdown",
   "metadata": {},
   "source": [
    "## Постановка задачи\n",
    "Участникам хакатона предстоит разработать ML–модель, которая по\n",
    "названиям, атрибутам и картинкам сможет ответить на вопрос являются ли\n",
    "два товара одинаковыми. Модель должна найти среди предложенных\n",
    "пар-кандидатов как можно больше одинаковых товаров с долей ошибок\n",
    "меньше 25%. Это решение поможет клиентам Ozon улучшить\n",
    "пользовательский опыт, а компании — оптимизировать ресурсы и\n",
    "сэкономить на закупке серверного оборудования"
   ]
  },
  {
   "attachments": {},
   "cell_type": "markdown",
   "metadata": {},
   "source": [
    "### Import"
   ]
  },
  {
   "cell_type": "code",
   "execution_count": 54,
   "metadata": {
    "ExecuteTime": {
     "end_time": "2023-05-19T06:10:23.678400Z",
     "start_time": "2023-05-19T06:10:16.503064Z"
    }
   },
   "outputs": [
    {
     "data": {
      "text/plain": [
       "'2.0.1+cu118'"
      ]
     },
     "execution_count": 54,
     "metadata": {},
     "output_type": "execute_result"
    }
   ],
   "source": [
    "import json\n",
    "from functools import partial\n",
    "from typing import List\n",
    "\n",
    "from datetime import datetime, timedelta\n",
    "import time\n",
    "from sklearn.linear_model import LogisticRegression\n",
    "from sklearn.ensemble import RandomForestClassifier\n",
    "from xgboost import XGBClassifier\n",
    "from lightgbm import LGBMClassifier\n",
    "from sklearn.model_selection import GridSearchCV\n",
    "from sklearn.model_selection import KFold\n",
    "\n",
    "import matplotlib.pyplot as plt\n",
    "import numpy as np\n",
    "import pandas as pd\n",
    "import seaborn as sns\n",
    "from catboost import CatBoostClassifier, Pool\n",
    "from catboost.utils import eval_metric\n",
    "from scipy.spatial.distance import cosine, euclidean\n",
    "from sklearn.metrics import pairwise_distances\n",
    "from sklearn.model_selection import train_test_split\n",
    "import itertools\n",
    "from sklearn.metrics import f1_score, recall_score, precision_score, roc_curve, precision_recall_curve, classification_report, confusion_matrix, auc\n",
    "\n",
    "from fuzzywuzzy import fuzz\n",
    "\n",
    "import plotly.express as px\n",
    "\n",
    "from sentence_transformers import SentenceTransformer, util\n",
    "\n",
    "\n",
    "\n",
    "import torch\n",
    "from torch.nn.functional import cosine_similarity\n",
    "torch.__version__"
   ]
  },
  {
   "cell_type": "code",
   "execution_count": 8,
   "metadata": {},
   "outputs": [
    {
     "name": "stdout",
     "output_type": "stream",
     "text": [
      "Is CUDA available: True\n",
      "CUDA device count: 1\n",
      "Device 0: NVIDIA GeForce RTX 2080 SUPER\n"
     ]
    }
   ],
   "source": [
    "\n",
    "print(\"Is CUDA available:\", torch.cuda.is_available())\n",
    "if torch.cuda.is_available():\n",
    "    print(\"CUDA device count:\", torch.cuda.device_count())\n",
    "    for i in range(torch.cuda.device_count()):\n",
    "        print(f\"Device {i}: {torch.cuda.get_device_name(i)}\")\n"
   ]
  },
  {
   "attachments": {},
   "cell_type": "markdown",
   "metadata": {},
   "source": [
    "### Load data"
   ]
  },
  {
   "cell_type": "code",
   "execution_count": 9,
   "metadata": {
    "ExecuteTime": {
     "end_time": "2023-05-19T06:12:05.012452Z",
     "start_time": "2023-05-19T06:11:27.878101Z"
    }
   },
   "outputs": [],
   "source": [
    "dataset = pd.read_parquet(\"hackathon_files_for_participants_ozon/train_pairs.parquet\")\n",
    "etl = pd.read_parquet(\"hackathon_files_for_participants_ozon/train_data.parquet\")"
   ]
  },
  {
   "attachments": {},
   "cell_type": "markdown",
   "metadata": {},
   "source": [
    "### Embedings NLP"
   ]
  },
  {
   "cell_type": "code",
   "execution_count": 10,
   "metadata": {},
   "outputs": [
    {
     "data": {
      "application/vnd.jupyter.widget-view+json": {
       "model_id": "0b5b93f65189497bbfd05f64930bea9e",
       "version_major": 2,
       "version_minor": 0
      },
      "text/plain": [
       "Batches:   0%|          | 0/28567 [00:00<?, ?it/s]"
      ]
     },
     "metadata": {},
     "output_type": "display_data"
    }
   ],
   "source": [
    "model_NLP = SentenceTransformer('all-MiniLM-L6-v2')\n",
    "try:\n",
    "    embeddings1 = np.load('embeddings1.npy')\n",
    "except:\n",
    "    # Compute and cache embeddings\n",
    "    embeddings1 = model_NLP.encode(etl['name'],batch_size=16,show_progress_bar=True).tolist()\n",
    "    np.save('embeddings1.npy', embeddings1)\n",
    "\n"
   ]
  },
  {
   "cell_type": "code",
   "execution_count": 11,
   "metadata": {},
   "outputs": [],
   "source": [
    "etl[\"Name_emb_MiniLM\"] = embeddings1"
   ]
  },
  {
   "cell_type": "code",
   "execution_count": 12,
   "metadata": {},
   "outputs": [],
   "source": [
    "\n",
    "etl[\"all_cats\"] = etl[\"categories\"].apply(lambda x :json.loads(x))\n",
    "etl[\"main_cat\"] = etl[\"all_cats\"].apply(lambda x : x[\"2\"])\n",
    "etl = etl[etl[\"main_cat\"]==\"Электроника\"]\n",
    "etl[\"sub_cat\"] = etl[\"all_cats\"].apply(lambda x : x[\"3\"])\n",
    "etl[\"type_cat\"] = etl[\"all_cats\"].apply(lambda x : x[\"4\"])\n"
   ]
  },
  {
   "attachments": {},
   "cell_type": "markdown",
   "metadata": {},
   "source": [
    "Get raw data for each variantid."
   ]
  },
  {
   "cell_type": "code",
   "execution_count": 13,
   "metadata": {
    "ExecuteTime": {
     "end_time": "2023-05-19T06:13:06.702876Z",
     "start_time": "2023-05-19T06:13:03.688111Z"
    }
   },
   "outputs": [],
   "source": [
    "features = (\n",
    "    dataset\n",
    "    .merge(\n",
    "        etl\n",
    "        .add_suffix('1'),\n",
    "        on=\"variantid1\"\n",
    "    )\n",
    "    .merge(\n",
    "        etl\n",
    "        .add_suffix('2'),\n",
    "        on=\"variantid2\"\n",
    "    )\n",
    ")"
   ]
  },
  {
   "attachments": {},
   "cell_type": "markdown",
   "metadata": {},
   "source": [
    "Features functions."
   ]
  },
  {
   "cell_type": "code",
   "execution_count": 14,
   "metadata": {
    "ExecuteTime": {
     "end_time": "2023-05-19T06:14:03.019463Z",
     "start_time": "2023-05-19T06:14:03.002869Z"
    }
   },
   "outputs": [],
   "source": [
    "def get_pic_features(main_pic_embeddings_1,\n",
    "                     main_pic_embeddings_2,\n",
    "                     percentiles: List[int]):\n",
    "    \"\"\"Calculate distances percentiles for \n",
    "    pairwise pic distances. Percentiles are useful \n",
    "    when product has several pictures.\n",
    "    \"\"\"\n",
    "    \n",
    "    if main_pic_embeddings_1 is not None and main_pic_embeddings_2 is not None:\n",
    "        main_pic_embeddings_1 = np.array([x for x in main_pic_embeddings_1])\n",
    "        main_pic_embeddings_2 = np.array([x for x in main_pic_embeddings_2])\n",
    "        \n",
    "        dist_m = pairwise_distances(\n",
    "            main_pic_embeddings_1, main_pic_embeddings_2\n",
    "        )\n",
    "    else:\n",
    "        dist_m = np.array([[-1]])\n",
    "\n",
    "    pair_features = []\n",
    "    pair_features += np.percentile(dist_m, percentiles).tolist()\n",
    "\n",
    "    return pair_features\n",
    "\n",
    "def compare_groups(text1, text2):\n",
    "    return fuzz.ratio(text1, text2)*0.01\n",
    "\n",
    "def text_dense_distances(ozon_embedding, comp_embedding):\n",
    "    \"\"\"Calculate Euclidean and Cosine distances between\n",
    "    ozon_embedding and comp_embedding.\n",
    "    \"\"\"\n",
    "    pair_features = []\n",
    "    if ozon_embedding is None or comp_embedding is None:\n",
    "        pair_features = [-1, -1]\n",
    "    elif len(ozon_embedding) == 0 or len(comp_embedding) == 0:\n",
    "        pair_features = [-1, -1]\n",
    "    else:\n",
    "        pair_features.append(\n",
    "            euclidean(ozon_embedding, comp_embedding)\n",
    "        )\n",
    "        cosine_value = cosine(ozon_embedding, comp_embedding)\n",
    "        \n",
    "        pair_features.append(cosine_value)\n",
    "\n",
    "    return pair_features\n",
    "\n",
    "def compare_characteristics(x,y,fuz=False,threshhold=95):\n",
    "    \"\"\"fuzz     : bool   if set True provide threshhold from 0-100 : int\"\"\"\n",
    "    if x == None or y == None:\n",
    "        return 0\n",
    "    \n",
    "    x= json.loads(x)\n",
    "    y= json.loads(y)\n",
    "    length = max([len(x),len(y)])\n",
    "    count_of_look_alikes=0\n",
    "    for i in x.keys():\n",
    "        if i in y.keys():\n",
    "            if x[i] == y[i]:\n",
    "                count_of_look_alikes+=1\n",
    "    \n",
    "    return (count_of_look_alikes/length)*0.01\n",
    "\n",
    "def NLP_cosine(txt1,txt2):\n",
    "    if txt1 is not None:\n",
    "\n",
    "        return util.cos_sim(txt1, txt2).diagonal()\n",
    "    \n",
    "def NLP_euclidean(txt1,txt2):\n",
    "    if txt1 is not None:\n",
    "\n",
    "        return euclidean(txt1, txt2)\n",
    "    \n",
    "def pic_best_dist(pic_list_1,pic_list_2):\n",
    "    best_euclid =[]\n",
    "    best_cosine =[]\n",
    "\n",
    "    if pic_list_1 is not None and pic_list_2 is not None:\n",
    "\n",
    "        for i in pic_list_1:\n",
    "            \n",
    "            pic_best_euclid=100.0\n",
    "            pic_best_cosine=0.0\n",
    "\n",
    "            for k in pic_list_2:\n",
    "                \n",
    "                e = euclidean(i, k)\n",
    "                \n",
    "\n",
    "                if e<pic_best_euclid:\n",
    "                    pic_best_euclid=e\n",
    "                    pic_best_cosine=util.cos_sim(i, k).diagonal().numpy()\n",
    "            \n",
    "            best_euclid.append(pic_best_euclid)\n",
    "            best_cosine.append(float(pic_best_cosine))\n",
    "            \n",
    "    else:\n",
    "        return([-1,-1])\n",
    "    alikeness_score = len([ i for i in best_euclid if i < 0.1  ])/len(best_euclid)\n",
    "    alikeness_cosine_score = np.mean(best_cosine)\n",
    "\n",
    "    return ([alikeness_score,alikeness_cosine_score])\n"
   ]
  },
  {
   "cell_type": "code",
   "execution_count": 15,
   "metadata": {},
   "outputs": [],
   "source": [
    "def pipeline(features):\n",
    "    features[\"characteristic_aliknes_score\"]=features[[\"characteristic_attributes_mapping1\",\"characteristic_attributes_mapping2\"]].apply(\n",
    "    lambda x: pd.Series(compare_characteristics(*x)),axis=1\n",
    ")\n",
    "    get_pic_features_func = partial(\n",
    "        get_pic_features,\n",
    "        percentiles=[0, 25, 50])\n",
    "\n",
    "    features[[\"pic_dist_0_perc\", \"pic_dist_25_perc\", \"pic_dist_50_perc\"]] = (\n",
    "        features[[\"pic_embeddings_resnet_v11\", \"pic_embeddings_resnet_v12\"]].apply(\n",
    "            lambda x: pd.Series(get_pic_features_func(*x)), axis=1\n",
    "        )\n",
    "    )\n",
    "\n",
    "    features[[\"main_pic_dist_0_perc\", \"main_pic_dist_25_perc\", \"main_pic_dist_50_perc\"]] = (\n",
    "        features[[\"main_pic_embeddings_resnet_v11\", \"main_pic_embeddings_resnet_v12\"]].apply(\n",
    "            lambda x: pd.Series(get_pic_features_func(*x)), axis=1\n",
    "        )\n",
    "    )\n",
    "\n",
    "    features[[\"pic_alikeness_score\",\"pic_alikeness_cosine_score\"]] = (\n",
    "        features[[\"pic_embeddings_resnet_v11\", \"pic_embeddings_resnet_v12\"]].apply(\n",
    "            lambda x: pd.Series(pic_best_dist(*x)), axis=1\n",
    "        )\n",
    "    )\n",
    "\n",
    "    features[[\"euclidean_name_bert_dist\", \"cosine_name_bert_dist\"]] = (\n",
    "        features[[\"name_bert_641\", \"name_bert_642\"]].apply(\n",
    "            lambda x: pd.Series(text_dense_distances(*x)), axis=1\n",
    "        )\n",
    "    )\n",
    "\n",
    "    features[[ \"cosine_name_Name_emb_MiniLM\"]] = (\n",
    "        features[[\"Name_emb_MiniLM1\", \"Name_emb_MiniLM2\"]].apply(\n",
    "            lambda x: pd.Series(NLP_cosine(*x)), axis=1\n",
    "        )\n",
    "    )\n",
    "\n",
    "    features[[ \"euclidean_name_Name_emb_MiniLM\"]] = (\n",
    "        features[[\"Name_emb_MiniLM1\", \"Name_emb_MiniLM2\"]].apply(\n",
    "            lambda x: pd.Series(NLP_euclidean(*x)), axis=1\n",
    "        )\n",
    "    )\n",
    "\n",
    "    features[[\"fuzz_type\"]] = (\n",
    "        features[[\"type_cat1\", \"type_cat2\"]].apply(\n",
    "            lambda x: pd.Series(compare_groups(*x)), axis=1\n",
    "        )\n",
    "    )\n",
    "    features[[\"fuzz_name\"]] = (\n",
    "        features[[\"name1\", \"name2\"]].apply(\n",
    "            lambda x: pd.Series(compare_groups(*x)), axis=1\n",
    "        )\n",
    "    )\n",
    "\n"
   ]
  },
  {
   "cell_type": "code",
   "execution_count": null,
   "metadata": {},
   "outputs": [],
   "source": [
    "features[\"cat3\"] = features[\"categories1\"].apply(lambda x: json.loads(x)[\"3\"])\n",
    "cat3_counts = features[\"cat3\"].value_counts().to_dict()\n",
    "features[\"cat3_grouped\"] = features[\"cat3\"].apply(lambda x: x if cat3_counts[x] > 1000 else \"rest\")"
   ]
  },
  {
   "cell_type": "code",
   "execution_count": 16,
   "metadata": {},
   "outputs": [],
   "source": [
    "pipeline(features)"
   ]
  },
  {
   "attachments": {},
   "cell_type": "markdown",
   "metadata": {},
   "source": [
    "### Feedforward Neural Network (FNN)"
   ]
  },
  {
   "cell_type": "code",
   "execution_count": 31,
   "metadata": {},
   "outputs": [
    {
     "data": {
      "text/plain": [
       "7"
      ]
     },
     "execution_count": 31,
     "metadata": {},
     "output_type": "execute_result"
    }
   ],
   "source": [
    "NN_feats = [\n",
    "    \"characteristic_aliknes_score\",\"pic_alikeness_score\",\"pic_alikeness_cosine_score\",\n",
    "    \"cosine_name_bert_dist\",\"cosine_name_Name_emb_MiniLM\",\"fuzz_type\",\"fuzz_name\"\n",
    "    ]\n",
    "bad_score_group=[\"Защитные пленки и стекла\",\"Чехол\",\"Компьютер\",\"Электронные модули\",\n",
    "                 \"Кабели и переходники\",\"Оперативная память\",\"Карты памяти и флешки\",\"Запчасти для ноутбуков\"]\n",
    "len(NN_feats)"
   ]
  },
  {
   "cell_type": "code",
   "execution_count": 32,
   "metadata": {},
   "outputs": [],
   "source": [
    "\n",
    "import torch.nn as nn\n",
    "import torch.nn.functional as F\n",
    "from torch.utils.data import DataLoader, TensorDataset\n",
    "from sklearn.metrics import mean_squared_error, accuracy_score, f1_score\n"
   ]
  },
  {
   "cell_type": "code",
   "execution_count": 33,
   "metadata": {},
   "outputs": [],
   "source": [
    "class FNN_G(nn.Module):\n",
    "    def __init__(self, input_size, output_size, hidden_size):\n",
    "        super(FNN_G, self).__init__()\n",
    "        self.input_size = input_size\n",
    "        self.output_size = output_size\n",
    "        self.hidden_size = hidden_size\n",
    "\n",
    "        self.fc1 = nn.Linear(input_size, hidden_size)\n",
    "        self.fc2 = nn.Linear(hidden_size, hidden_size)\n",
    "        self.fc3 = nn.Linear(hidden_size, output_size)\n",
    "\n",
    "    def forward(self, x):\n",
    "        out = F.relu(self.fc1(x))\n",
    "        out = F.relu(self.fc2(out))\n",
    "        out = torch.sigmoid(self.fc3(out))\n",
    "        \n",
    "        return out\n",
    "\n",
    "input_size = 7\n",
    "output_size = 1\n",
    "hidden_size = 64\n",
    "\n",
    "model_NN_good = FNN_G(input_size=input_size, output_size=output_size,\n",
    "            hidden_size=hidden_size)"
   ]
  },
  {
   "cell_type": "code",
   "execution_count": 34,
   "metadata": {},
   "outputs": [],
   "source": [
    "class FNN_B(nn.Module):\n",
    "    def __init__(self, input_size, output_size, hidden_size):\n",
    "        super(FNN_B, self).__init__()\n",
    "        self.input_size = input_size\n",
    "        self.output_size = output_size\n",
    "        self.hidden_size = hidden_size\n",
    "\n",
    "        self.fc1 = nn.Linear(input_size, hidden_size)\n",
    "        self.fc2 = nn.Linear(hidden_size, hidden_size)\n",
    "        self.fc3 = nn.Linear(hidden_size, output_size)\n",
    "\n",
    "    def forward(self, x):\n",
    "        out = F.relu(self.fc1(x))\n",
    "        out = F.relu(self.fc2(out))\n",
    "        out = torch.sigmoid(self.fc3(out))\n",
    "        \n",
    "        return out\n",
    "\n",
    "input_size = 7\n",
    "output_size = 1\n",
    "hidden_size = 64\n",
    "\n",
    "model_NN_BAD = FNN_B(input_size=input_size, output_size=output_size,\n",
    "            hidden_size=hidden_size)"
   ]
  },
  {
   "cell_type": "code",
   "execution_count": 145,
   "metadata": {},
   "outputs": [],
   "source": [
    "inputs = torch.tensor(features[NN_feats].values, dtype=torch.float32)\n",
    "outputs = torch.tensor(features[['target']].values, dtype=torch.float32)\n",
    "dataset = TensorDataset(inputs, outputs)\n",
    "dataloader = DataLoader(dataset, batch_size=7)\n",
    "criterion = nn.BCELoss()\n",
    "optimizer = torch.optim.Adam(model_NN_good.parameters(),lr=0.0001)\n"
   ]
  },
  {
   "cell_type": "code",
   "execution_count": 146,
   "metadata": {},
   "outputs": [
    {
     "name": "stdout",
     "output_type": "stream",
     "text": [
      "Epoch: 1/30, Loss: 0.3299\n",
      "Epoch: 2/30, Loss: 0.3087\n",
      "Epoch: 3/30, Loss: 0.2922\n",
      "Epoch: 4/30, Loss: 0.2784\n",
      "Epoch: 5/30, Loss: 0.2595\n",
      "Epoch: 6/30, Loss: 0.2527\n",
      "Epoch: 7/30, Loss: 0.2447\n",
      "Epoch: 8/30, Loss: 0.2373\n",
      "Epoch: 9/30, Loss: 0.2303\n",
      "Epoch: 10/30, Loss: 0.2266\n",
      "Epoch: 11/30, Loss: 0.2254\n",
      "Epoch: 12/30, Loss: 0.2310\n",
      "Epoch: 13/30, Loss: 0.2318\n",
      "Epoch: 14/30, Loss: 0.2382\n",
      "Epoch: 15/30, Loss: 0.2331\n",
      "Epoch: 16/30, Loss: 0.2361\n",
      "Epoch: 17/30, Loss: 0.2347\n",
      "Epoch: 18/30, Loss: 0.2369\n",
      "Epoch: 19/30, Loss: 0.2364\n",
      "Epoch: 20/30, Loss: 0.2355\n",
      "Epoch: 21/30, Loss: 0.2409\n",
      "Epoch: 22/30, Loss: 0.2401\n",
      "Epoch: 23/30, Loss: 0.2317\n",
      "Epoch: 24/30, Loss: 0.2375\n",
      "Epoch: 25/30, Loss: 0.2313\n",
      "Epoch: 26/30, Loss: 0.2299\n",
      "Epoch: 27/30, Loss: 0.2225\n",
      "Epoch: 28/30, Loss: 0.2240\n",
      "Epoch: 29/30, Loss: 0.2178\n",
      "Epoch: 30/30, Loss: 0.2172\n"
     ]
    }
   ],
   "source": [
    "\n",
    "num_epochs = 30\n",
    "for epoch in range(num_epochs):\n",
    "    for batch_inputs, batch_outputs in dataloader:\n",
    "        # Forward pass\n",
    "        outputs = model_NN_good(batch_inputs)\n",
    "        loss = criterion(outputs, batch_outputs)\n",
    "\n",
    "        # Backward pass and optimization\n",
    "        optimizer.zero_grad()\n",
    "        loss.backward()\n",
    "        optimizer.step()\n",
    "\n",
    "    print(f'Epoch: {epoch+1}/{num_epochs}, Loss: {loss.item():.4f}')"
   ]
  },
  {
   "cell_type": "code",
   "execution_count": 147,
   "metadata": {},
   "outputs": [],
   "source": [
    "inputs = torch.tensor(features[features[\"cat3_grouped\"].isin(bad_score_group)][NN_feats].values, dtype=torch.float32)\n",
    "outputs = torch.tensor(features[features[\"cat3_grouped\"].isin(bad_score_group)][['target']].values, dtype=torch.float32)\n",
    "dataset = TensorDataset(inputs, outputs)\n",
    "dataloader = DataLoader(dataset, batch_size=7)\n",
    "criterion = nn.BCELoss()\n",
    "optimizer = torch.optim.Adam(model_NN_BAD.parameters(),lr=0.0001)\n"
   ]
  },
  {
   "cell_type": "code",
   "execution_count": 148,
   "metadata": {},
   "outputs": [
    {
     "name": "stdout",
     "output_type": "stream",
     "text": [
      "Epoch: 1/30, Loss: 0.2092\n",
      "Epoch: 2/30, Loss: 0.2012\n",
      "Epoch: 3/30, Loss: 0.1953\n",
      "Epoch: 4/30, Loss: 0.1933\n",
      "Epoch: 5/30, Loss: 0.1902\n",
      "Epoch: 6/30, Loss: 0.1871\n",
      "Epoch: 7/30, Loss: 0.1847\n",
      "Epoch: 8/30, Loss: 0.1831\n",
      "Epoch: 9/30, Loss: 0.1824\n",
      "Epoch: 10/30, Loss: 0.1826\n",
      "Epoch: 11/30, Loss: 0.1818\n",
      "Epoch: 12/30, Loss: 0.1811\n",
      "Epoch: 13/30, Loss: 0.1806\n",
      "Epoch: 14/30, Loss: 0.1806\n",
      "Epoch: 15/30, Loss: 0.1809\n",
      "Epoch: 16/30, Loss: 0.1792\n",
      "Epoch: 17/30, Loss: 0.1784\n",
      "Epoch: 18/30, Loss: 0.1770\n",
      "Epoch: 19/30, Loss: 0.1739\n",
      "Epoch: 20/30, Loss: 0.1721\n",
      "Epoch: 21/30, Loss: 0.1691\n",
      "Epoch: 22/30, Loss: 0.1626\n",
      "Epoch: 23/30, Loss: 0.1602\n",
      "Epoch: 24/30, Loss: 0.1560\n",
      "Epoch: 25/30, Loss: 0.1530\n",
      "Epoch: 26/30, Loss: 0.1507\n",
      "Epoch: 27/30, Loss: 0.1500\n",
      "Epoch: 28/30, Loss: 0.1482\n",
      "Epoch: 29/30, Loss: 0.1480\n",
      "Epoch: 30/30, Loss: 0.1437\n"
     ]
    }
   ],
   "source": [
    "\n",
    "num_epochs = 30\n",
    "for epoch in range(num_epochs):\n",
    "    for batch_inputs, batch_outputs in dataloader:\n",
    "        # Forward pass\n",
    "        outputs = model_NN_BAD(batch_inputs)\n",
    "        loss = criterion(outputs, batch_outputs)\n",
    "\n",
    "        # Backward pass and optimization\n",
    "        optimizer.zero_grad()\n",
    "        loss.backward()\n",
    "        optimizer.step()\n",
    "\n",
    "    print(f'Epoch: {epoch+1}/{num_epochs}, Loss: {loss.item():.4f}')"
   ]
  },
  {
   "cell_type": "code",
   "execution_count": 149,
   "metadata": {},
   "outputs": [],
   "source": [
    "torch.save(model_NN_good,\"models/FNN_good.pt\")\n",
    "torch.save(model_NN_BAD,\"models/FNN_bad.pt\")"
   ]
  },
  {
   "cell_type": "code",
   "execution_count": 35,
   "metadata": {},
   "outputs": [],
   "source": [
    "model_NN_good = torch.load(\"models/FNN_good.pt\")\n",
    "model_NN_BAD = torch.load(\"models/FNN_bad.pt\")"
   ]
  },
  {
   "cell_type": "code",
   "execution_count": 36,
   "metadata": {},
   "outputs": [],
   "source": [
    "inputs = torch.tensor(features[NN_feats].values, dtype=torch.float32)"
   ]
  },
  {
   "cell_type": "code",
   "execution_count": 37,
   "metadata": {},
   "outputs": [],
   "source": [
    "with torch.no_grad():\n",
    "    predictionsg = model_NN_good(inputs)\n",
    "    predictionsb= model_NN_BAD(inputs)"
   ]
  },
  {
   "cell_type": "code",
   "execution_count": 38,
   "metadata": {},
   "outputs": [],
   "source": [
    "features[\"FNN_predictions\"]=predictionsg.numpy()"
   ]
  },
  {
   "cell_type": "code",
   "execution_count": 39,
   "metadata": {},
   "outputs": [
    {
     "name": "stderr",
     "output_type": "stream",
     "text": [
      "C:\\Users\\UP\\AppData\\Local\\Temp\\ipykernel_14820\\2428002241.py:1: SettingWithCopyWarning: \n",
      "A value is trying to be set on a copy of a slice from a DataFrame\n",
      "\n",
      "See the caveats in the documentation: https://pandas.pydata.org/pandas-docs/stable/user_guide/indexing.html#returning-a-view-versus-a-copy\n",
      "  features[\"FNN_predictions\"][features[\"cat3_grouped\"].isin(bad_score_group)] =  predictionsb.numpy()\n"
     ]
    }
   ],
   "source": [
    "features[\"FNN_predictions\"][features[\"cat3_grouped\"].isin(bad_score_group)] =  predictionsb.numpy()"
   ]
  },
  {
   "attachments": {},
   "cell_type": "markdown",
   "metadata": {},
   "source": [
    "# Ensambles ML"
   ]
  },
  {
   "cell_type": "code",
   "execution_count": 42,
   "metadata": {},
   "outputs": [],
   "source": [
    "feats = [\"main_pic_dist_0_perc\", \"main_pic_dist_25_perc\", \"main_pic_dist_50_perc\", \n",
    "    \"pic_dist_0_perc\", \"pic_dist_25_perc\", \"pic_dist_50_perc\", \n",
    "         \"euclidean_name_bert_dist\", \"cosine_name_bert_dist\",\"cosine_name_Name_emb_MiniLM\",\n",
    "         \"euclidean_name_Name_emb_MiniLM\",'pic_alikeness_score', 'pic_alikeness_cosine_score',\"FNN_predictions\", 'fuzz_type', 'fuzz_name'\n",
    "         ]"
   ]
  },
  {
   "cell_type": "code",
   "execution_count": 47,
   "metadata": {},
   "outputs": [],
   "source": [
    "RANDOM_STATE = 42"
   ]
  },
  {
   "cell_type": "code",
   "execution_count": 48,
   "metadata": {},
   "outputs": [],
   "source": [
    "# Разбиваю сет так же как в бейзлайне, только по cat3_grouped делаю ohe\n",
    "\n",
    "features_encoded = pd.get_dummies(features, columns=['cat3_grouped'])\n",
    "\n",
    "X_train, X_test = train_test_split(\n",
    "    features_encoded[feats + [\"target\", \"variantid1\", \"variantid2\"]], \n",
    "    test_size=0.3, random_state=42, stratify=features_encoded[[\"target\"]]\n",
    ")\n",
    "\n",
    "X_train, X_val = train_test_split(\n",
    "    X_train[feats + [\"target\",  \"variantid1\", \"variantid2\"]], \n",
    "    test_size=0.3, random_state=42, stratify=X_train[[\"target\"]]\n",
    ")\n",
    "\n",
    "y_test = X_test[[\"target\", \"variantid1\", \"variantid2\"]]\n",
    "X_test = X_test.drop([\"target\"], axis=1)\n",
    "\n",
    "y_train = X_train[\"target\"]\n",
    "y_val = X_val[\"target\"]\n",
    "\n",
    "X_train = X_train.drop([\"target\"], axis=1)\n",
    "X_val = X_val.drop([\"target\"], axis=1)\n"
   ]
  },
  {
   "cell_type": "code",
   "execution_count": 49,
   "metadata": {},
   "outputs": [],
   "source": [
    "# Список моделей\n",
    "models_list = {\n",
    "    'Logistic Regression': LogisticRegression(random_state=RANDOM_STATE, n_jobs=-1),\n",
    "    'Random Forest Classifier': RandomForestClassifier(random_state=RANDOM_STATE, n_jobs=-1),\n",
    "    'XGBoost': XGBClassifier(random_state=RANDOM_STATE, n_jobs=-1),\n",
    "    'LightGBM': LGBMClassifier(random_state=RANDOM_STATE),\n",
    "    'CatBoost': CatBoostClassifier(random_state=RANDOM_STATE, logging_level='Silent'),\n",
    "}"
   ]
  },
  {
   "cell_type": "code",
   "execution_count": 50,
   "metadata": {},
   "outputs": [],
   "source": [
    "\n",
    "def time_format(sec):\n",
    "    return str(timedelta(seconds=sec))"
   ]
  },
  {
   "cell_type": "code",
   "execution_count": 53,
   "metadata": {},
   "outputs": [
    {
     "name": "stdout",
     "output_type": "stream",
     "text": [
      "***********************************Start fit Logistic Regression************************************\n",
      "***********************End fit Logistic Regression, run time: 0:00:01.859946************************\n",
      "\n",
      "*********************************Start fit Random Forest Classifier*********************************\n",
      "*********************End fit Random Forest Classifier, run time: 0:00:09.044751*********************\n",
      "\n",
      "*****************************************Start fit XGBoost******************************************\n",
      "*****************************End fit XGBoost, run time: 0:00:05.704208******************************\n",
      "\n",
      "*****************************************Start fit LightGBM*****************************************\n",
      "*****************************End fit LightGBM, run time: 0:00:00.556906*****************************\n",
      "\n",
      "*****************************************Start fit CatBoost*****************************************\n",
      "*****************************End fit CatBoost, run time: 0:00:14.704760*****************************\n",
      "\n"
     ]
    }
   ],
   "source": [
    "# Обучение (запускать блок если нет моделей)\n",
    "for model_name, model in models_list.items():\n",
    "    start_t = time.time()\n",
    "    print(f'Start fit {model_name}'.center(100,'*'))\n",
    "    model.fit(X_train, y_train)\n",
    "    print(f'End fit {model_name}, run time: {time_format(time.time()-start_t)}'.center(100,'*'))\n",
    "    print()"
   ]
  },
  {
   "cell_type": "code",
   "execution_count": 56,
   "metadata": {},
   "outputs": [],
   "source": [
    "def get_classification_report(models_list, X_train, y_train, \n",
    "                                        X_valid, y_valid, \n",
    "                                        classes,\n",
    "                                        title='',\n",
    "                                        threshold=0.5):\n",
    "    \n",
    "    for model_name, model in models_list.items():\n",
    "        print()\n",
    "        y_train_pred = model.predict_proba(X_train)[:,1]\n",
    "        y_valid_pred = model.predict_proba(X_valid)[:,1]\n",
    "        \n",
    "        y_train_pred = y_train_pred > threshold\n",
    "        y_valid_pred = y_valid_pred > threshold\n",
    "        \n",
    "        print(f'{model_name}. {title}'.center(53, '*'))\n",
    "        print('TRAIN\\n\\n' + classification_report(y_train, y_train_pred))\n",
    "        print('VALID\\n\\n' + classification_report(y_valid, y_valid_pred))\n",
    "        plt.figure(figsize=(7, 4))\n",
    "        plot_confusion_matrix(y_valid, y_valid_pred, classes=classes, title=f'Confusion matrix.\\n {model_name}. {title}')\n",
    "        plt.show()\n",
    "        print('_'*53)\n",
    "        print('\\n')\n",
    "\n",
    "def plot_confusion_matrix(y_true, y_pred, classes,\n",
    "                          normalize=False,\n",
    "                          title='Confusion matrix',\n",
    "                          cmap=plt.cm.Blues):\n",
    "    \"\"\"\n",
    "    This function prints and plots the confusion matrix.\n",
    "    Normalization can be applied by setting `normalize=True`.\n",
    "    \"\"\"\n",
    "    \n",
    "    cm = confusion_matrix(y_true, y_pred)\n",
    "    plt.imshow(cm, interpolation='nearest', cmap=cmap)\n",
    "    plt.title(title)\n",
    "    plt.grid(False)\n",
    "    tick_marks = np.arange(len(classes))\n",
    "    plt.xticks(tick_marks, classes)\n",
    "    plt.yticks(tick_marks, classes, rotation=90)\n",
    "\n",
    "    if normalize:\n",
    "        cm = cm.astype('float') / cm.sum(axis=1)[:, np.newaxis]\n",
    "\n",
    "    thresh = cm.max() / 2.\n",
    "    for i, j in itertools.product(range(cm.shape[0]), range(cm.shape[1])):\n",
    "        plt.text(j, i, cm[i, j],\n",
    "                 horizontalalignment='center', fontsize=16,\n",
    "                 color=\"white\" if cm[i, j] > thresh else \"black\")\n",
    "\n",
    "    plt.tight_layout()\n",
    "    plt.ylabel('True label')\n",
    "    plt.xlabel('Predicted label')\n",
    "    \n",
    "    #filename = title.replace(\"\\n\",\"\") + '.png'\n",
    "    #plt.savefig(filename, format='png', dpi=300)\n",
    "    \n",
    "def plot_roc_pr(models_list, X_train, y_train, X_valid, y_valid, title='', threshold=0.5):\n",
    "\n",
    "    f, (ax1, ax2) = plt.subplots(2, 1, sharey=True)\n",
    "    \n",
    "    f.set_figheight(10)\n",
    "    f.set_figwidth(20)\n",
    "    \n",
    "    ax1 = plt.subplot(121)\n",
    "    ax1.set_title(f'ROC. {title}')\n",
    "    ax1.set_xlabel('TPR')\n",
    "    ax1.set_ylabel('FPR')\n",
    "    ax1.set_aspect('equal')\n",
    "    ax1.plot([0, 1], [0, 1], 'k--')\n",
    "    \n",
    "    ax2 = plt.subplot(122)\n",
    "    ax2.set_title(f'PR. {title}')\n",
    "    ax2.set_xlabel('Recall')\n",
    "    ax2.set_ylabel('Precision')\n",
    "    ax2.set_aspect('equal')\n",
    "    \n",
    "    f_scores = np.linspace(0.2, 0.8, num=4)\n",
    "    for f_score in f_scores:\n",
    "        x = np.linspace(0.01, 1)\n",
    "        y = f_score * x / (2 * x - f_score)\n",
    "        l, = plt.plot(x[y >= 0], y[y >= 0], color='gray', alpha=0.2)\n",
    "        ax2.annotate(f'f1={f_score:0.1f}', xy=(0.9, y[45] + 0.02), fontsize=14)\n",
    "        \n",
    "    ax2.set_xlim([0.0, 1.0])\n",
    "    ax2.set_ylim([0.0, 1.05])\n",
    "    \n",
    "    for model_name, model in models_list.items():\n",
    "        y_pred_proba = model.predict_proba(X_valid)[:,1]\n",
    "        y_pred = y_pred_proba > threshold\n",
    "        \n",
    "        fpr, tpr, roc_thresholds = roc_curve(y_valid, y_pred_proba)\n",
    "        precision, recall, pr_thresholds = precision_recall_curve(y_valid, y_pred_proba)\n",
    "        \n",
    "        ax1.plot(fpr, tpr, label=f'{model_name} (AUC={auc(fpr, tpr):.2f})')       \n",
    "        ax2.plot(recall, precision, label=f'{model_name} (f1={f1_score(y_valid, y_pred):.2f})')\n",
    "\n",
    "    ax1.legend(loc=\"lower right\")\n",
    "    ax2.legend(loc=\"lower left\")\n",
    "    \n",
    "    #filename = title.replace('\\n', '') + '_ROC_PF.png'\n",
    "    #plt.savefig(filename, format='png', dpi=300)\n",
    "    \n",
    "    plt.show()\n",
    "    \n",
    "def show_proba_calibration_plots(y_predicted_probs, y_true_labels):\n",
    "    preds_with_true_labels = np.array(list(zip(y_predicted_probs, y_true_labels)))\n",
    "\n",
    "    thresholds = []\n",
    "    precisions = []\n",
    "    recalls = []\n",
    "    f1_scores = []\n",
    "\n",
    "    for threshold in np.linspace(0.1, 0.9, 9):\n",
    "        thresholds.append(threshold)\n",
    "        precisions.append(precision_score(y_true_labels, list(map(int, y_predicted_probs > threshold))))\n",
    "        recalls.append(recall_score(y_true_labels, list(map(int, y_predicted_probs > threshold))))\n",
    "        f1_scores.append(f1_score(y_true_labels, list(map(int, y_predicted_probs > threshold))))\n",
    "\n",
    "    scores_table = pd.DataFrame({'f1':f1_scores,\n",
    "                                 'precision':precisions,\n",
    "                                 'recall':recalls,\n",
    "                                 'probability':thresholds}).sort_values('f1', ascending=False).round(3)\n",
    "  \n",
    "    figure = plt.figure(figsize = (15, 5))\n",
    "\n",
    "    plt1 = figure.add_subplot(121)\n",
    "    plt1.plot(thresholds, precisions, label='Precision', linewidth=4)\n",
    "    plt1.plot(thresholds, recalls, label='Recall', linewidth=4)\n",
    "    plt1.plot(thresholds, f1_scores, label='F1', linewidth=4)\n",
    "    plt1.set_ylabel('Scores')\n",
    "    plt1.set_xlabel('Probability threshold')\n",
    "    plt1.set_title('Probabilities threshold calibration')\n",
    "    plt1.legend(bbox_to_anchor=(1, 1))   \n",
    "    plt1.table(cellText = scores_table.values,\n",
    "               colLabels = scores_table.columns, \n",
    "               colLoc = 'center', cellLoc = 'center', loc = 'bottom', bbox = [0, -1.3, 1, 1])\n",
    "\n",
    "    plt2 = figure.add_subplot(122)\n",
    "    plt2.hist(preds_with_true_labels[preds_with_true_labels[:, 1] == 0][:, 0], \n",
    "              label='Another class', color='royalblue', alpha=1)\n",
    "    plt2.hist(preds_with_true_labels[preds_with_true_labels[:, 1] == 1][:, 0], \n",
    "              label='Main class', color='darkcyan', alpha=0.8)\n",
    "    plt2.set_ylabel('Number of examples')\n",
    "    plt2.set_xlabel('Probabilities')\n",
    "    plt2.set_title('Probability histogram')\n",
    "    plt2.legend(bbox_to_anchor=(1, 1))\n",
    "    \n",
    "    #plt.savefig('show_proba_calibration_plots.png', format='png', dpi=300)\n",
    "    plt.show()"
   ]
  },
  {
   "cell_type": "code",
   "execution_count": 58,
   "metadata": {},
   "outputs": [
    {
     "name": "stderr",
     "output_type": "stream",
     "text": [
      "C:\\Users\\UP\\AppData\\Local\\Temp\\ipykernel_14820\\4043805371.py:64: MatplotlibDeprecationWarning: Auto-removal of overlapping axes is deprecated since 3.6 and will be removed two minor releases later; explicitly call ax.remove() as needed.\n",
      "  ax1 = plt.subplot(121)\n"
     ]
    },
    {
     "data": {
      "image/png": "[encoded data removed]",
      "text/plain": [
       "<Figure size 2000x1000 with 2 Axes>"
      ]
     },
     "metadata": {},
     "output_type": "display_data"
    }
   ],
   "source": [
    "# Борд по бейз моделям\n",
    "plot_roc_pr(models_list, X_train, y_train, X_val, y_val, title='Baseline')"
   ]
  },
  {
   "cell_type": "code",
   "execution_count": 64,
   "metadata": {},
   "outputs": [],
   "source": [
    "def pr_auc_macro(\n",
    "    target_df: pd.DataFrame,\n",
    "    predictions_df: pd.DataFrame,\n",
    "    prec_level: float = 0.75\n",
    ") -> float:\n",
    "\n",
    "    df = target_df.merge(predictions_df, on=[\"variantid1\", \"variantid2\"])\n",
    "\n",
    "    y_true = df[\"target\"]\n",
    "    y_pred = df[\"scores\"]\n",
    "\n",
    "    # get coordinates (x, y) for (recall, precision) of PR-curve\n",
    "    y, x, _ = precision_recall_curve(y_true, y_pred)\n",
    "    \n",
    "    # reverse the lists so that x's are in ascending order (left to right)\n",
    "    y = y[::-1]\n",
    "    x = x[::-1]\n",
    "    \n",
    "    # get indices for x-coordinate (recall) where y-coordinate (precision) \n",
    "    # is higher than precision level (75% for our task)\n",
    "    good_idx = np.where(y >= prec_level)[0]\n",
    "    \n",
    "    # if there are more than one such x's (at least one is always there, \n",
    "    # it's x=0 (recall=0)) we get a grid from x=0, to the rightest x \n",
    "    # with acceptable precision\n",
    "    if len(good_idx) > 1:\n",
    "        gt_prec_level_idx = np.arange(0, good_idx[-1] + 1)\n",
    "        pr_auc_prec_level = auc(x[gt_prec_level_idx], y[gt_prec_level_idx])\n",
    "        return pr_auc_prec_level\n",
    "        \n",
    "    # if there is only one such x, then we have zeros in the top scores \n",
    "    # and the curve simply goes down sharply at x=0 and does not rise \n",
    "    # above the required precision: PRAUC=0\n",
    "    else:\n",
    "        return 0\n"
   ]
  },
  {
   "cell_type": "code",
   "execution_count": 65,
   "metadata": {},
   "outputs": [
    {
     "name": "stdout",
     "output_type": "stream",
     "text": [
      "Logistic Regression: 0.0001\n",
      "Random Forest Classifier: 0.6833\n",
      "XGBoost: 0.6771\n",
      "LightGBM: 0.6608\n",
      "CatBoost: 0.6888\n"
     ]
    }
   ],
   "source": [
    "# Создаем датафрейм с истинными значениями целевой переменной и значениями 'variantid1' и 'variantid2'\n",
    "target_df = X_val[['variantid1', 'variantid2']].copy()\n",
    "target_df['target'] = y_val\n",
    "\n",
    "# Создаем пустой датафрейм для хранения прогнозов\n",
    "predictions_df = pd.DataFrame()\n",
    "\n",
    "# Для каждой модели в списке моделей\n",
    "for model_name, model in models_list.items():\n",
    "    # Получаем прогнозы на валидационной выборке\n",
    "    y_pred = model.predict_proba(X_val)[:, 1]\n",
    "    # Сохраняем прогнозы в датафрейме прогнозов\n",
    "    predictions_df[model_name] = y_pred\n",
    "\n",
    "# Добавляем значения 'variantid1' и 'variantid2' в датафрейм прогнозов\n",
    "predictions_df[['variantid1', 'variantid2']] = X_val[['variantid1', 'variantid2']].values\n",
    "\n",
    "# Для каждой модели в списке моделей\n",
    "for model_name in models_list.keys():\n",
    "    # Выбираем столбец с прогнозами для текущей модели\n",
    "    model_predictions = predictions_df[['variantid1', 'variantid2', model_name]]\n",
    "    # Переименовываем столбец с прогнозами в 'scores'\n",
    "    model_predictions = model_predictions.rename(columns={model_name: 'scores'})\n",
    "    # Вычисляем метрику качества для текущей модели\n",
    "    score = pr_auc_macro(target_df, model_predictions, prec_level=0.75)\n",
    "    # Выводим результаты\n",
    "    print(f'{model_name}: {score:.4f}')\n"
   ]
  },
  {
   "cell_type": "code",
   "execution_count": null,
   "metadata": {},
   "outputs": [],
   "source": [
    "import joblib\n",
    "\n",
    "# Сохранение моделей\n",
    "joblib.dump(models_list['CatBoost'], 'catboost_model.joblib')\n",
    "joblib.dump(models_list['Random Forest Classifier'], 'random_forest_model.joblib')\n",
    "joblib.dump(models_list['XGBoost'], 'xgboost_model.joblib')"
   ]
  },
  {
   "cell_type": "code",
   "execution_count": null,
   "metadata": {},
   "outputs": [],
   "source": [
    "# Загрузка моделей\n",
    "catboost_model = joblib.load('catboost_model.joblib')\n",
    "random_forest_model = joblib.load('random_forest_model.joblib')\n",
    "xgboost_model = joblib.load('xgboost_model.joblib')"
   ]
  },
  {
   "cell_type": "code",
   "execution_count": 66,
   "metadata": {},
   "outputs": [],
   "source": [
    "# Получаем прогнозы модели XGBoost\n",
    "y_pred_xgb = xgboost_model.predict_proba(X_val)[:, 1]\n",
    "\n",
    "# Получаем прогнозы модели Random Forest Classifier\n",
    "y_pred_rfc = random_forest_model.predict_proba(X_val)[:, 1]\n",
    "\n",
    "# Получаем прогнозы модели CatBoost\n",
    "y_pred_cat = catboost_model.predict_proba(X_val)[:, 1]\n",
    "\n",
    "# Усредняем прогнозы двух моделей\n",
    "y_pred_ensemble = (y_pred_xgb + y_pred_cat + y_pred_rfc) / 3\n"
   ]
  },
  {
   "cell_type": "code",
   "execution_count": 67,
   "metadata": {},
   "outputs": [
    {
     "name": "stdout",
     "output_type": "stream",
     "text": [
      "Ensemble: 0.7042\n"
     ]
    }
   ],
   "source": [
    "# Создаем датафрейм с истинными значениями целевой переменной и значениями 'variantid1' и 'variantid2'\n",
    "target_df = X_val[['variantid1', 'variantid2']].copy()\n",
    "target_df['target'] = y_val\n",
    "\n",
    "# Создаем датафрейм с ансамблевыми прогнозами\n",
    "predictions_df = pd.DataFrame({'scores': y_pred_ensemble})\n",
    "predictions_df[['variantid1', 'variantid2']] = X_val[['variantid1', 'variantid2']].values\n",
    "\n",
    "# Вычисляем метрику качества для ансамблевых прогнозов\n",
    "score = pr_auc_macro(target_df, predictions_df)\n",
    "print(f'Ensemble: {score:.4f}')"
   ]
  },
  {
   "attachments": {},
   "cell_type": "markdown",
   "metadata": {},
   "source": [
    "# Submission"
   ]
  },
  {
   "cell_type": "code",
   "execution_count": 68,
   "metadata": {
    "ExecuteTime": {
     "end_time": "2023-05-19T06:31:32.836414Z",
     "start_time": "2023-05-19T06:31:31.181747Z"
    }
   },
   "outputs": [],
   "source": [
    "test_pairs = pd.read_parquet(\"hackathon_files_for_participants_ozon/test_pairs_wo_target.parquet\")\n",
    "test_etl = pd.read_parquet(\"hackathon_files_for_participants_ozon/test_data.parquet\")"
   ]
  },
  {
   "cell_type": "code",
   "execution_count": 69,
   "metadata": {},
   "outputs": [
    {
     "data": {
      "text/plain": [
       "((18084, 2), (35730, 8))"
      ]
     },
     "execution_count": 69,
     "metadata": {},
     "output_type": "execute_result"
    }
   ],
   "source": [
    "test_pairs.shape,test_etl.shape"
   ]
  },
  {
   "cell_type": "code",
   "execution_count": 70,
   "metadata": {},
   "outputs": [
    {
     "data": {
      "text/html": [
       "<div>\n",
       "<style scoped>\n",
       "    .dataframe tbody tr th:only-of-type {\n",
       "        vertical-align: middle;\n",
       "    }\n",
       "\n",
       "    .dataframe tbody tr th {\n",
       "        vertical-align: top;\n",
       "    }\n",
       "\n",
       "    .dataframe thead th {\n",
       "        text-align: right;\n",
       "    }\n",
       "</style>\n",
       "<table border=\"1\" class=\"dataframe\">\n",
       "  <thead>\n",
       "    <tr style=\"text-align: right;\">\n",
       "      <th></th>\n",
       "      <th>variantid</th>\n",
       "      <th>name</th>\n",
       "      <th>categories</th>\n",
       "      <th>color_parsed</th>\n",
       "      <th>pic_embeddings_resnet_v1</th>\n",
       "      <th>main_pic_embeddings_resnet_v1</th>\n",
       "      <th>name_bert_64</th>\n",
       "      <th>characteristic_attributes_mapping</th>\n",
       "    </tr>\n",
       "  </thead>\n",
       "  <tbody>\n",
       "    <tr>\n",
       "      <th>0</th>\n",
       "      <td>51201254</td>\n",
       "      <td>Колодка TDM Electric четырехместная без заземл...</td>\n",
       "      <td>{\"1\": \"EPG\", \"2\": \"Электроника\", \"3\": \"Сетевые...</td>\n",
       "      <td>[белый]</td>\n",
       "      <td>[[0.34383398, -0.2962618, 0.07987049, -0.08257...</td>\n",
       "      <td>[[0.38310742, -0.7876679, 0.5018278, 0.2090071...</td>\n",
       "      <td>[-0.5060825, 0.5773388, 0.59435517, -0.4958292...</td>\n",
       "      <td>{\"Страна-изготовитель\":[\"Китай\"],\"Бренд\":[\"TDM...</td>\n",
       "    </tr>\n",
       "    <tr>\n",
       "      <th>1</th>\n",
       "      <td>77151532</td>\n",
       "      <td>Клавиатура черная с черной рамкой для 25-011879</td>\n",
       "      <td>{\"1\": \"EPG\", \"2\": \"Электроника\", \"3\": \"Запчаст...</td>\n",
       "      <td>[черный]</td>\n",
       "      <td>None</td>\n",
       "      <td>[[0.50964713, 0.7958329, -1.4113188, 0.1999381...</td>\n",
       "      <td>[-0.43467724, 0.6614495, 0.48050267, -0.588880...</td>\n",
       "      <td>{\"Страна-изготовитель\":[\"Китай\"],\"Комплектация...</td>\n",
       "    </tr>\n",
       "  </tbody>\n",
       "</table>\n",
       "</div>"
      ],
      "text/plain": [
       "   variantid                                               name   \n",
       "0   51201254  Колодка TDM Electric четырехместная без заземл...  \\\n",
       "1   77151532    Клавиатура черная с черной рамкой для 25-011879   \n",
       "\n",
       "                                          categories color_parsed   \n",
       "0  {\"1\": \"EPG\", \"2\": \"Электроника\", \"3\": \"Сетевые...      [белый]  \\\n",
       "1  {\"1\": \"EPG\", \"2\": \"Электроника\", \"3\": \"Запчаст...     [черный]   \n",
       "\n",
       "                            pic_embeddings_resnet_v1   \n",
       "0  [[0.34383398, -0.2962618, 0.07987049, -0.08257...  \\\n",
       "1                                               None   \n",
       "\n",
       "                       main_pic_embeddings_resnet_v1   \n",
       "0  [[0.38310742, -0.7876679, 0.5018278, 0.2090071...  \\\n",
       "1  [[0.50964713, 0.7958329, -1.4113188, 0.1999381...   \n",
       "\n",
       "                                        name_bert_64   \n",
       "0  [-0.5060825, 0.5773388, 0.59435517, -0.4958292...  \\\n",
       "1  [-0.43467724, 0.6614495, 0.48050267, -0.588880...   \n",
       "\n",
       "                   characteristic_attributes_mapping  \n",
       "0  {\"Страна-изготовитель\":[\"Китай\"],\"Бренд\":[\"TDM...  \n",
       "1  {\"Страна-изготовитель\":[\"Китай\"],\"Комплектация...  "
      ]
     },
     "execution_count": 70,
     "metadata": {},
     "output_type": "execute_result"
    }
   ],
   "source": [
    "test_etl.head(2)"
   ]
  },
  {
   "attachments": {},
   "cell_type": "markdown",
   "metadata": {},
   "source": [
    "Generate the same features as for train"
   ]
  },
  {
   "cell_type": "code",
   "execution_count": 71,
   "metadata": {},
   "outputs": [],
   "source": [
    "test_etl[\"all_cats\"] = test_etl[\"categories\"].apply(lambda x :json.loads(x))\n",
    "test_etl[\"main_cat\"] = test_etl[\"all_cats\"].apply(lambda x : x[\"2\"])\n",
    "test_etl[\"sub_cat\"] = test_etl[\"all_cats\"].apply(lambda x : x[\"3\"])\n",
    "test_etl[\"type_cat\"] = test_etl[\"all_cats\"].apply(lambda x : x[\"4\"])\n",
    "test_etl = test_etl[test_etl[\"main_cat\"]==\"Электроника\"]"
   ]
  },
  {
   "cell_type": "code",
   "execution_count": 72,
   "metadata": {},
   "outputs": [
    {
     "data": {
      "application/vnd.jupyter.widget-view+json": {
       "model_id": "c873459141f3470eae5fcfe87b6721ce",
       "version_major": 2,
       "version_minor": 0
      },
      "text/plain": [
       "Batches:   0%|          | 0/2234 [00:00<?, ?it/s]"
      ]
     },
     "metadata": {},
     "output_type": "display_data"
    }
   ],
   "source": [
    "try:\n",
    "    embeddings1 = np.load('embeddingstest.npy')\n",
    "except:\n",
    "    # Compute and cache embeddings\n",
    "    embeddings1 = model_NLP.encode(test_etl['name'],batch_size=16,show_progress_bar=True).tolist()\n",
    "    np.save('embeddingstest.npy', embeddings1)\n",
    "\n",
    "\n",
    "test_etl[\"Name_emb_MiniLM\"] = embeddings1"
   ]
  },
  {
   "cell_type": "code",
   "execution_count": 73,
   "metadata": {
    "ExecuteTime": {
     "end_time": "2023-05-19T06:31:44.061466Z",
     "start_time": "2023-05-19T06:31:44.008543Z"
    }
   },
   "outputs": [],
   "source": [
    "test_features = (\n",
    "    test_pairs\n",
    "    .merge(\n",
    "    test_etl\n",
    "        .add_suffix('1'),\n",
    "        on=\"variantid1\"\n",
    "    )\n",
    "    .merge(\n",
    "    test_etl\n",
    "        .add_suffix('2'),\n",
    "        on=\"variantid2\"\n",
    "    )\n",
    ")"
   ]
  },
  {
   "cell_type": "code",
   "execution_count": 74,
   "metadata": {},
   "outputs": [
    {
     "data": {
      "text/plain": [
       "(18084, 26)"
      ]
     },
     "execution_count": 74,
     "metadata": {},
     "output_type": "execute_result"
    }
   ],
   "source": [
    "test_features.shape"
   ]
  },
  {
   "cell_type": "code",
   "execution_count": 75,
   "metadata": {
    "ExecuteTime": {
     "end_time": "2023-05-19T06:32:25.287137Z",
     "start_time": "2023-05-19T06:32:10.342926Z"
    }
   },
   "outputs": [],
   "source": [
    "def pipeline(features):\n",
    "    features[\"characteristic_aliknes_score\"]=features[[\"characteristic_attributes_mapping1\",\"characteristic_attributes_mapping2\"]].apply(\n",
    "    lambda x: pd.Series(compare_characteristics(*x)),axis=1\n",
    ")\n",
    "    get_pic_features_func = partial(\n",
    "        get_pic_features,\n",
    "        percentiles=[0, 25, 50])\n",
    "\n",
    "    features[[\"pic_dist_0_perc\", \"pic_dist_25_perc\", \"pic_dist_50_perc\"]] = (\n",
    "        features[[\"pic_embeddings_resnet_v11\", \"pic_embeddings_resnet_v12\"]].apply(\n",
    "            lambda x: pd.Series(get_pic_features_func(*x)), axis=1\n",
    "        )\n",
    "    )\n",
    "\n",
    "    features[[\"main_pic_dist_0_perc\", \"main_pic_dist_25_perc\", \"main_pic_dist_50_perc\"]] = (\n",
    "        features[[\"main_pic_embeddings_resnet_v11\", \"main_pic_embeddings_resnet_v12\"]].apply(\n",
    "            lambda x: pd.Series(get_pic_features_func(*x)), axis=1\n",
    "        )\n",
    "    )\n",
    "\n",
    "    features[[\"pic_alikeness_score\",\"pic_alikeness_cosine_score\"]] = (\n",
    "        features[[\"pic_embeddings_resnet_v11\", \"pic_embeddings_resnet_v12\"]].apply(\n",
    "            lambda x: pd.Series(pic_best_dist(*x)), axis=1\n",
    "        )\n",
    "    )\n",
    "\n",
    "    features[[\"euclidean_name_bert_dist\", \"cosine_name_bert_dist\"]] = (\n",
    "        features[[\"name_bert_641\", \"name_bert_642\"]].apply(\n",
    "            lambda x: pd.Series(text_dense_distances(*x)), axis=1\n",
    "        )\n",
    "    )\n",
    "\n",
    "    features[[ \"cosine_name_Name_emb_MiniLM\"]] = (\n",
    "        features[[\"Name_emb_MiniLM1\", \"Name_emb_MiniLM2\"]].apply(\n",
    "            lambda x: pd.Series(NLP_cosine(*x)), axis=1\n",
    "        )\n",
    "    )\n",
    "\n",
    "    features[[ \"euclidean_name_Name_emb_MiniLM\"]] = (\n",
    "        features[[\"Name_emb_MiniLM1\", \"Name_emb_MiniLM2\"]].apply(\n",
    "            lambda x: pd.Series(NLP_euclidean(*x)), axis=1\n",
    "        )\n",
    "    )\n",
    "\n",
    "    features[[\"fuzz_type\"]] = (\n",
    "        features[[\"type_cat1\", \"type_cat2\"]].apply(\n",
    "            lambda x: pd.Series(compare_groups(*x)), axis=1\n",
    "        )\n",
    "    )\n",
    "    features[[\"fuzz_name\"]] = (\n",
    "        features[[\"name1\", \"name2\"]].apply(\n",
    "            lambda x: pd.Series(compare_groups(*x)), axis=1\n",
    "        )\n",
    "    )\n",
    "    "
   ]
  },
  {
   "cell_type": "code",
   "execution_count": 77,
   "metadata": {},
   "outputs": [],
   "source": [
    "pipeline(test_features)"
   ]
  },
  {
   "cell_type": "code",
   "execution_count": 78,
   "metadata": {
    "ExecuteTime": {
     "end_time": "2023-05-19T06:32:34.415102Z",
     "start_time": "2023-05-19T06:32:34.354763Z"
    }
   },
   "outputs": [],
   "source": [
    "test_features[\"cat3\"] = test_features[\"categories1\"].apply(lambda x: json.loads(x)[\"3\"])"
   ]
  },
  {
   "cell_type": "code",
   "execution_count": 79,
   "metadata": {
    "ExecuteTime": {
     "end_time": "2023-05-19T06:32:37.601571Z",
     "start_time": "2023-05-19T06:32:37.596721Z"
    }
   },
   "outputs": [
    {
     "data": {
      "text/plain": [
       "(18084, 42)"
      ]
     },
     "execution_count": 79,
     "metadata": {},
     "output_type": "execute_result"
    }
   ],
   "source": [
    "test_features.shape"
   ]
  },
  {
   "cell_type": "code",
   "execution_count": 80,
   "metadata": {
    "ExecuteTime": {
     "end_time": "2023-05-19T06:32:40.679595Z",
     "start_time": "2023-05-19T06:32:40.668656Z"
    }
   },
   "outputs": [
    {
     "data": {
      "text/plain": [
       "537"
      ]
     },
     "execution_count": 80,
     "metadata": {},
     "output_type": "execute_result"
    }
   ],
   "source": [
    "test_cat3_counts = test_features[\"cat3\"].value_counts().to_dict()\n",
    "\n",
    "cntr = 0\n",
    "for cat3 in test_cat3_counts:\n",
    "    if test_cat3_counts[cat3] < 50:\n",
    "        cntr += test_cat3_counts[cat3]\n",
    "        \n",
    "cntr"
   ]
  },
  {
   "cell_type": "code",
   "execution_count": 81,
   "metadata": {
    "ExecuteTime": {
     "end_time": "2023-05-19T06:34:07.170273Z",
     "start_time": "2023-05-19T06:34:07.157474Z"
    }
   },
   "outputs": [],
   "source": [
    "test_features[\"cat3_grouped\"] = test_features[\"cat3\"].apply(lambda x: x if test_cat3_counts[x] > 50 else \"rest\")\n",
    "# btw you can rename to `rest` the same categories that were assigned to this group in train"
   ]
  },
  {
   "cell_type": "code",
   "execution_count": 82,
   "metadata": {},
   "outputs": [
    {
     "name": "stderr",
     "output_type": "stream",
     "text": [
      "C:\\Users\\UP\\AppData\\Local\\Temp\\ipykernel_14820\\2984726210.py:10: SettingWithCopyWarning: \n",
      "A value is trying to be set on a copy of a slice from a DataFrame\n",
      "\n",
      "See the caveats in the documentation: https://pandas.pydata.org/pandas-docs/stable/user_guide/indexing.html#returning-a-view-versus-a-copy\n",
      "  test_features[\"FNN_predictions\"][test_features[\"cat3_grouped\"].isin(bad_score_group)] =  predictionsb.numpy()\n"
     ]
    }
   ],
   "source": [
    "model_NN_BAD = torch.load(\"models\\FNN_bad.pt\")\n",
    "model_NN_good = torch.load(\"models\\FNN_good.pt\")\n",
    "\n",
    "inputs = torch.tensor(test_features[NN_feats].values, dtype=torch.float32)\n",
    "with torch.no_grad():\n",
    "    predictionsg = model_NN_good(inputs)\n",
    "    predictionsb= model_NN_BAD(inputs)\n",
    "\n",
    "test_features[\"FNN_predictions\"]=predictionsg.numpy()\n",
    "test_features[\"FNN_predictions\"][test_features[\"cat3_grouped\"].isin(bad_score_group)] =  predictionsb.numpy()"
   ]
  },
  {
   "cell_type": "code",
   "execution_count": 83,
   "metadata": {
    "ExecuteTime": {
     "end_time": "2023-05-19T06:34:11.446732Z",
     "start_time": "2023-05-19T06:34:11.382287Z"
    }
   },
   "outputs": [],
   "source": [
    "submission_example = test_features.copy()"
   ]
  },
  {
   "cell_type": "code",
   "execution_count": 84,
   "metadata": {},
   "outputs": [],
   "source": [
    "\n",
    "feats = [\"main_pic_dist_0_perc\", \"main_pic_dist_25_perc\", \"main_pic_dist_50_perc\", \n",
    "    \"pic_dist_0_perc\", \"pic_dist_25_perc\", \"pic_dist_50_perc\", \n",
    "         \"euclidean_name_bert_dist\", \"cosine_name_bert_dist\",\"cosine_name_Name_emb_MiniLM\",\n",
    "         \"euclidean_name_Name_emb_MiniLM\",'pic_alikeness_score', 'pic_alikeness_cosine_score',\"FNN_predictions\", 'fuzz_type', 'fuzz_name',\n",
    "         \"variantid1\", \"variantid2\"]"
   ]
  },
  {
   "cell_type": "code",
   "execution_count": 85,
   "metadata": {},
   "outputs": [],
   "source": [
    "features_encoded = pd.get_dummies(test_features, columns=['cat3_grouped'])"
   ]
  },
  {
   "cell_type": "code",
   "execution_count": 87,
   "metadata": {},
   "outputs": [],
   "source": [
    "# Получаем прогнозы модели XGBoost\n",
    "y_pred_xgb = xgboost_model.predict_proba(features_encoded[feats])[:, 1]\n",
    "\n",
    "# Получаем прогнозы модели Random Forest Classifier\n",
    "y_pred_rfc = random_forest_model.predict_proba(features_encoded[feats])[:, 1]\n",
    "\n",
    "# Получаем прогнозы модели CatBoost\n",
    "y_pred_cat = catboost_model.predict_proba(features_encoded[feats])[:, 1]\n",
    "\n",
    "# Усредняем прогнозы двух моделей\n",
    "y_pred_ensemble = (y_pred_xgb + y_pred_cat + y_pred_rfc) / 3"
   ]
  },
  {
   "cell_type": "code",
   "execution_count": 88,
   "metadata": {
    "ExecuteTime": {
     "end_time": "2023-05-19T06:34:14.146730Z",
     "start_time": "2023-05-19T06:34:14.086525Z"
    }
   },
   "outputs": [],
   "source": [
    "submission_example[\"target\"] = model.predict_proba(test_features[feats])[:, 1]"
   ]
  },
  {
   "cell_type": "code",
   "execution_count": 89,
   "metadata": {
    "ExecuteTime": {
     "end_time": "2023-05-19T06:34:17.373009Z",
     "start_time": "2023-05-19T06:34:17.357230Z"
    }
   },
   "outputs": [],
   "source": [
    "submission_example = submission_example[[\"variantid1\", \"variantid2\", \"target\"]]"
   ]
  },
  {
   "cell_type": "code",
   "execution_count": 90,
   "metadata": {
    "ExecuteTime": {
     "end_time": "2023-05-19T06:35:41.877989Z",
     "start_time": "2023-05-19T06:35:41.794727Z"
    }
   },
   "outputs": [],
   "source": [
    "submission_example.drop_duplicates().merge(\n",
    "    test_features[[\"variantid1\", \"variantid2\"]].drop_duplicates([\"variantid1\", \"variantid2\"]),\n",
    "    on=[\"variantid1\", \"variantid2\"]\n",
    ").to_csv(\"submission_heroic2.csv\", index=False)"
   ]
  },
  {
   "attachments": {},
   "cell_type": "markdown",
   "metadata": {},
   "source": [
    "### Recommendations \n",
    "\n",
    "- Work with names, in electronics names often contain a lot of useful information for matching.\n",
    "- Don't forget about attributes: working with it will allow your model to better distinguish matches from non-matches."
   ]
  }
 ],
 "metadata": {
  "kernelspec": {
   "display_name": "Python 3",
   "language": "python",
   "name": "python3"
  },
  "language_info": {
   "codemirror_mode": {
    "name": "ipython",
    "version": 3
   },
   "file_extension": ".py",
   "mimetype": "text/x-python",
   "name": "python",
   "nbconvert_exporter": "python",
   "pygments_lexer": "ipython3",
   "version": "3.11.3"
  }
 },
 "nbformat": 4,
 "nbformat_minor": 4
}
